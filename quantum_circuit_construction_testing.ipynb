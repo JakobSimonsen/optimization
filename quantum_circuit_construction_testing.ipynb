{
 "cells": [
  {
   "cell_type": "code",
   "execution_count": 14,
   "metadata": {},
   "outputs": [
    {
     "name": "stdout",
     "output_type": "stream",
     "text": [
      "The autoreload extension is already loaded. To reload it, use:\n",
      "  %reload_ext autoreload\n"
     ]
    }
   ],
   "source": [
    "%load_ext autoreload\n",
    "%autoreload 2"
   ]
  },
  {
   "cell_type": "code",
   "execution_count": 15,
   "metadata": {},
   "outputs": [],
   "source": [
    "from mixers import *\n",
    "from qiskit import *\n"
   ]
  },
  {
   "cell_type": "code",
   "execution_count": 16,
   "metadata": {},
   "outputs": [],
   "source": [
    "from IPython.display import display\n",
    "np.set_printoptions(suppress=True)"
   ]
  },
  {
   "cell_type": "code",
   "execution_count": 17,
   "metadata": {},
   "outputs": [],
   "source": [
    "import matplotlib.pyplot as pl"
   ]
  },
  {
   "cell_type": "code",
   "execution_count": 18,
   "metadata": {},
   "outputs": [],
   "source": [
    "from cuircuit_construction import *\n",
    "from qiskit.tools.visualization import circuit_drawer"
   ]
  },
  {
   "cell_type": "code",
   "execution_count": 19,
   "metadata": {},
   "outputs": [
    {
     "data": {
      "text/latex": [
       "$\\displaystyle 0.5 {\\sigma_{1}}\\otimes {\\sigma_{1}} + 0.5 {\\sigma_{2}}\\otimes {\\sigma_{2}}$"
      ],
      "text/plain": [
       "0.5*sigma1xsigma1 + 0.5*sigma2xsigma2"
      ]
     },
     "metadata": {},
     "output_type": "display_data"
    },
    {
     "data": {
      "text/plain": [
       "'+0.50 XX +0.50 YY '"
      ]
     },
     "metadata": {},
     "output_type": "display_data"
    },
    {
     "data": {
      "text/plain": [
       "[0.5, 0.5]"
      ]
     },
     "metadata": {},
     "output_type": "display_data"
    },
    {
     "data": {
      "text/plain": [
       "['XX', 'YY']"
      ]
     },
     "metadata": {},
     "output_type": "display_data"
    },
    {
     "data": {
      "text/html": [
       "<pre style=\"word-wrap: normal;white-space: pre;background: #fff0;line-height: 1.1;font-family: &quot;Courier New&quot;,Courier,monospace\">      ░ ┌───┐                   ┌───┐ ░ ┌───┐┌───┐                   ┌───┐»\n",
       "q_0: ─░─┤ H ├──■─────────────■──┤ H ├─░─┤ S ├┤ H ├──■─────────────■──┤ H ├»\n",
       "      ░ ├───┤┌─┴─┐┌───────┐┌─┴─┐├───┤ ░ ├───┤├───┤┌─┴─┐┌───────┐┌─┴─┐├───┤»\n",
       "q_1: ─░─┤ H ├┤ X ├┤ Rz(1) ├┤ X ├┤ H ├─░─┤ S ├┤ H ├┤ X ├┤ Rz(1) ├┤ X ├┤ H ├»\n",
       "      ░ └───┘└───┘└───────┘└───┘└───┘ ░ └───┘└───┘└───┘└───────┘└───┘└───┘»\n",
       "«     ┌─────┐\n",
       "«q_0: ┤ Sdg ├\n",
       "«     ├─────┤\n",
       "«q_1: ┤ Sdg ├\n",
       "«     └─────┘</pre>"
      ],
      "text/plain": [
       "      ░ ┌───┐                   ┌───┐ ░ ┌───┐┌───┐                   ┌───┐»\n",
       "q_0: ─░─┤ H ├──■─────────────■──┤ H ├─░─┤ S ├┤ H ├──■─────────────■──┤ H ├»\n",
       "      ░ ├───┤┌─┴─┐┌───────┐┌─┴─┐├───┤ ░ ├───┤├───┤┌─┴─┐┌───────┐┌─┴─┐├───┤»\n",
       "q_1: ─░─┤ H ├┤ X ├┤ Rz(1) ├┤ X ├┤ H ├─░─┤ S ├┤ H ├┤ X ├┤ Rz(1) ├┤ X ├┤ H ├»\n",
       "      ░ └───┘└───┘└───────┘└───┘└───┘ ░ └───┘└───┘└───┘└───────┘└───┘└───┘»\n",
       "«     ┌─────┐\n",
       "«q_0: ┤ Sdg ├\n",
       "«     ├─────┤\n",
       "«q_1: ┤ Sdg ├\n",
       "«     └─────┘"
      ]
     },
     "metadata": {},
     "output_type": "display_data"
    }
   ],
   "source": [
    "H = get_H(['10','01'],get_T(2,\"nearest_int\"),simplify=False)\n",
    "H = simplifyH(H)\n",
    "cnots = num_Cnot(H)[1]\n",
    "circuit = QuantumCircuit(2)\n",
    "\n",
    "\n",
    "#display(\"number of cnots\", cnots)\n",
    "display(H)\n",
    "t_list, p_list = clean_up_pauli_reprecentation(HtoString(H))\n",
    "depth = 2*len(p_list)\n",
    "display(HtoString(H))\n",
    "display(t_list)\n",
    "display(p_list)\n",
    "\n",
    "circuit = cc(circuit, HtoString(H), 3)\n",
    "#circuit = find_u(circuit, y, 1)\n",
    "#circuit = find_u_dgr(circuit, y, 1)\n",
    "display(circuit.draw())"
   ]
  },
  {
   "cell_type": "code",
   "execution_count": 20,
   "metadata": {},
   "outputs": [
    {
     "data": {
      "text/latex": [
       "$\\displaystyle 0.5 {\\sigma_{1}}\\otimes {\\sigma_{1}} + 0.5 {\\sigma_{2}}\\otimes {\\sigma_{2}}$"
      ],
      "text/plain": [
       "0.5*sigma1xsigma1 + 0.5*sigma2xsigma2"
      ]
     },
     "metadata": {},
     "output_type": "display_data"
    },
    {
     "data": {
      "text/plain": [
       "'+0.50 XX +0.50 YY '"
      ]
     },
     "metadata": {},
     "output_type": "display_data"
    }
   ],
   "source": [
    "#T = get_T(4**1,'nearest_int')\n",
    "#H = get_H(['10','01'], T)\n",
    "H = get_H(['10','01'],get_T(2,\"nearest_int\"),simplify=False)\n",
    "H = simplifyH(H)\n",
    "\n",
    "#print_info2(['11','00'],get_T(2,\"nearest_int\"))\n",
    "    \n",
    "display(H)\n",
    "#display(HtoString(H))\n",
    "display(HtoString(H))\n",
    "cnots = num_Cnot(H)[1]\n",
    "#display(cnots)\n",
    "#circuit = cc(HtoString(H), 3, 2)\n",
    "#display(circuit.draw())\n",
    "#display(circuit)"
   ]
  },
  {
   "cell_type": "code",
   "execution_count": 21,
   "metadata": {
    "scrolled": false
   },
   "outputs": [
    {
     "data": {
      "text/latex": [
       "$\\displaystyle 0.25 \\cdot {{1}\\otimes {\\sigma_{1}}}\\otimes {\\sigma_{1}} + 0.25 \\cdot {{1}\\otimes {\\sigma_{2}}}\\otimes {\\sigma_{2}} + 0.5 {{\\sigma_{1}}\\otimes {\\sigma_{1}}}\\otimes {1} + 0.25 {{\\sigma_{1}}\\otimes {\\sigma_{1}}}\\otimes {\\sigma_{1}} - 0.25 {{\\sigma_{1}}\\otimes {\\sigma_{2}}}\\otimes {\\sigma_{2}} - 0.25 {{\\sigma_{2}}\\otimes {\\sigma_{1}}}\\otimes {\\sigma_{2}} - 0.25 {{\\sigma_{2}}\\otimes {\\sigma_{2}}}\\otimes {\\sigma_{1}} + 0.5 {{\\sigma_{2}}\\otimes {\\sigma_{2}}}\\otimes {\\sigma_{3}} + 0.25 {{\\sigma_{3}}\\otimes {\\sigma_{1}}}\\otimes {\\sigma_{1}} + 0.25 {{\\sigma_{3}}\\otimes {\\sigma_{2}}}\\otimes {\\sigma_{2}}$"
      ],
      "text/plain": [
       "0.25*1xsigma1xsigma1 + 0.25*1xsigma2xsigma2 + 0.5*sigma1xsigma1x1 + 0.25*sigma1xsigma1xsigma1 - 0.25*sigma1xsigma2xsigma2 - 0.25*sigma2xsigma1xsigma2 - 0.25*sigma2xsigma2xsigma1 + 0.5*sigma2xsigma2xsigma3 + 0.25*sigma3xsigma1xsigma1 + 0.25*sigma3xsigma2xsigma2"
      ]
     },
     "metadata": {},
     "output_type": "display_data"
    },
    {
     "data": {
      "text/plain": [
       "' '"
      ]
     },
     "metadata": {},
     "output_type": "display_data"
    },
    {
     "data": {
      "text/plain": [
       "'num of cnots'"
      ]
     },
     "metadata": {},
     "output_type": "display_data"
    },
    {
     "data": {
      "text/plain": [
       "34"
      ]
     },
     "metadata": {},
     "output_type": "display_data"
    },
    {
     "ename": "IndexError",
     "evalue": "list index out of range",
     "output_type": "error",
     "traceback": [
      "\u001b[0;31m---------------------------------------------------------------------------\u001b[0m",
      "\u001b[0;31mIndexError\u001b[0m                                Traceback (most recent call last)",
      "\u001b[0;32m<ipython-input-21-75269fdc3114>\u001b[0m in \u001b[0;36m<module>\u001b[0;34m\u001b[0m\n\u001b[1;32m     10\u001b[0m \u001b[0mdisplay\u001b[0m\u001b[0;34m(\u001b[0m\u001b[0;34m\"num of cnots\"\u001b[0m\u001b[0;34m,\u001b[0m \u001b[0mcnots\u001b[0m\u001b[0;34m)\u001b[0m\u001b[0;34m\u001b[0m\u001b[0;34m\u001b[0m\u001b[0m\n\u001b[1;32m     11\u001b[0m \u001b[0mcircuit\u001b[0m \u001b[0;34m=\u001b[0m \u001b[0mQuantumCircuit\u001b[0m\u001b[0;34m(\u001b[0m\u001b[0;36m3\u001b[0m\u001b[0;34m)\u001b[0m\u001b[0;34m\u001b[0m\u001b[0;34m\u001b[0m\u001b[0m\n\u001b[0;32m---> 12\u001b[0;31m \u001b[0mcircuit\u001b[0m \u001b[0;34m=\u001b[0m \u001b[0mcc\u001b[0m\u001b[0;34m(\u001b[0m\u001b[0mcircuit\u001b[0m\u001b[0;34m,\u001b[0m \u001b[0mHtoString\u001b[0m\u001b[0;34m(\u001b[0m\u001b[0mH\u001b[0m\u001b[0;34m)\u001b[0m\u001b[0;34m,\u001b[0m \u001b[0;36m3\u001b[0m\u001b[0;34m)\u001b[0m\u001b[0;34m\u001b[0m\u001b[0;34m\u001b[0m\u001b[0m\n\u001b[0m\u001b[1;32m     13\u001b[0m \u001b[0;34m\u001b[0m\u001b[0m\n\u001b[1;32m     14\u001b[0m \u001b[0mdisplay\u001b[0m\u001b[0;34m(\u001b[0m\u001b[0mHtoString\u001b[0m\u001b[0;34m(\u001b[0m\u001b[0mH\u001b[0m\u001b[0;34m)\u001b[0m\u001b[0;34m)\u001b[0m\u001b[0;34m\u001b[0m\u001b[0;34m\u001b[0m\u001b[0m\n",
      "\u001b[0;32m~/Desktop/quantum/optimization/cuircuit_construction.py\u001b[0m in \u001b[0;36mcc\u001b[0;34m(circuit, H, cnots, qlist)\u001b[0m\n\u001b[1;32m     52\u001b[0m         \u001b[0;31m#cnot gate generation stage\u001b[0m\u001b[0;34m\u001b[0m\u001b[0;34m\u001b[0m\u001b[0;34m\u001b[0m\u001b[0m\n\u001b[1;32m     53\u001b[0m         \u001b[0;31m#circuit.cx(range(0,cnots-1,1), range(1,cnots,1))\u001b[0m\u001b[0;34m\u001b[0m\u001b[0;34m\u001b[0m\u001b[0;34m\u001b[0m\u001b[0m\n\u001b[0;32m---> 54\u001b[0;31m         \u001b[0mcircuit\u001b[0m \u001b[0;34m=\u001b[0m \u001b[0mcalculate_cnots\u001b[0m\u001b[0;34m(\u001b[0m\u001b[0mcircuit\u001b[0m\u001b[0;34m,\u001b[0m \u001b[0mp_list\u001b[0m\u001b[0;34m,\u001b[0m \u001b[0mqlist\u001b[0m\u001b[0;34m)\u001b[0m\u001b[0;34m\u001b[0m\u001b[0;34m\u001b[0m\u001b[0m\n\u001b[0m\u001b[1;32m     55\u001b[0m         \u001b[0;31m#create rz gate with (2T) as param\u001b[0m\u001b[0;34m\u001b[0m\u001b[0;34m\u001b[0m\u001b[0;34m\u001b[0m\u001b[0m\n\u001b[1;32m     56\u001b[0m         \u001b[0mcircuit\u001b[0m\u001b[0;34m.\u001b[0m\u001b[0mrz\u001b[0m\u001b[0;34m(\u001b[0m\u001b[0;36m2\u001b[0m\u001b[0;34m*\u001b[0m\u001b[0mt_list\u001b[0m\u001b[0;34m[\u001b[0m\u001b[0mindex\u001b[0m\u001b[0;34m]\u001b[0m\u001b[0;34m,\u001b[0m \u001b[0mcnots\u001b[0m\u001b[0;34m-\u001b[0m\u001b[0;36m1\u001b[0m\u001b[0;34m)\u001b[0m\u001b[0;34m\u001b[0m\u001b[0;34m\u001b[0m\u001b[0m\n",
      "\u001b[0;32m~/Desktop/quantum/optimization/cuircuit_construction.py\u001b[0m in \u001b[0;36mcalculate_cnots\u001b[0;34m(circuit, bitstring, qbitlist, downwards)\u001b[0m\n\u001b[1;32m    112\u001b[0m                 \u001b[0;32mcontinue\u001b[0m\u001b[0;34m\u001b[0m\u001b[0;34m\u001b[0m\u001b[0m\n\u001b[1;32m    113\u001b[0m             \u001b[0;32melse\u001b[0m\u001b[0;34m:\u001b[0m\u001b[0;34m\u001b[0m\u001b[0;34m\u001b[0m\u001b[0m\n\u001b[0;32m--> 114\u001b[0;31m                \u001b[0mcircuit\u001b[0m\u001b[0;34m.\u001b[0m\u001b[0mcx\u001b[0m\u001b[0;34m(\u001b[0m\u001b[0mqbitlist\u001b[0m\u001b[0;34m[\u001b[0m\u001b[0mindex\u001b[0m\u001b[0;34m]\u001b[0m\u001b[0;34m,\u001b[0m \u001b[0mqbitlist\u001b[0m\u001b[0;34m[\u001b[0m\u001b[0mindex\u001b[0m\u001b[0;34m+\u001b[0m\u001b[0;36m1\u001b[0m\u001b[0;34m]\u001b[0m\u001b[0;34m)\u001b[0m\u001b[0;34m\u001b[0m\u001b[0;34m\u001b[0m\u001b[0m\n\u001b[0m\u001b[1;32m    115\u001b[0m     \u001b[0;32melse\u001b[0m\u001b[0;34m:\u001b[0m\u001b[0;34m\u001b[0m\u001b[0;34m\u001b[0m\u001b[0m\n\u001b[1;32m    116\u001b[0m         \u001b[0;32mfor\u001b[0m \u001b[0mindex\u001b[0m\u001b[0;34m,\u001b[0m \u001b[0mcharacter\u001b[0m \u001b[0;32min\u001b[0m \u001b[0menumerate\u001b[0m\u001b[0;34m(\u001b[0m\u001b[0mreversed\u001b[0m\u001b[0;34m(\u001b[0m\u001b[0mbitstring\u001b[0m\u001b[0;34m)\u001b[0m\u001b[0;34m)\u001b[0m\u001b[0;34m:\u001b[0m\u001b[0;34m\u001b[0m\u001b[0;34m\u001b[0m\u001b[0m\n",
      "\u001b[0;31mIndexError\u001b[0m: list index out of range"
     ]
    }
   ],
   "source": [
    "T = get_T(5**1,'nearest_int')\n",
    "H = get_H(['100','010','001', '111', '000'], T)\n",
    "#display(H)\n",
    "H = simplifyH(H)\n",
    "display(H)\n",
    "display(\" \")\n",
    "\n",
    "\n",
    "cnots = num_Cnot(H)[1]\n",
    "display(\"num of cnots\", cnots)\n",
    "circuit = QuantumCircuit(3)\n",
    "circuit = cc(circuit, HtoString(H), 3)\n",
    "\n",
    "display(HtoString(H))\n",
    "display(\"\")\n",
    "\n",
    "display(circuit.draw())"
   ]
  },
  {
   "cell_type": "code",
   "execution_count": null,
   "metadata": {},
   "outputs": [],
   "source": []
  },
  {
   "cell_type": "code",
   "execution_count": null,
   "metadata": {
    "scrolled": true
   },
   "outputs": [],
   "source": []
  },
  {
   "cell_type": "code",
   "execution_count": null,
   "metadata": {},
   "outputs": [],
   "source": []
  },
  {
   "cell_type": "code",
   "execution_count": null,
   "metadata": {},
   "outputs": [],
   "source": []
  },
  {
   "cell_type": "code",
   "execution_count": null,
   "metadata": {},
   "outputs": [],
   "source": []
  }
 ],
 "metadata": {
  "kernelspec": {
   "display_name": "Python 3",
   "language": "python",
   "name": "python3"
  },
  "language_info": {
   "codemirror_mode": {
    "name": "ipython",
    "version": 3
   },
   "file_extension": ".py",
   "mimetype": "text/x-python",
   "name": "python",
   "nbconvert_exporter": "python",
   "pygments_lexer": "ipython3",
   "version": "3.8.5"
  }
 },
 "nbformat": 4,
 "nbformat_minor": 4
}
