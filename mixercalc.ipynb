{
 "cells": [
  {
   "cell_type": "code",
   "execution_count": 4,
   "id": "11322472",
   "metadata": {},
   "outputs": [],
   "source": [
    "from sympy import *"
   ]
  },
  {
   "cell_type": "code",
   "execution_count": 5,
   "id": "08f0238f",
   "metadata": {},
   "outputs": [],
   "source": [
    "x0 = symbols(\"x0\")\n",
    "x1 = symbols(\"x1\")\n",
    "x2 = symbols(\"x2\")\n",
    "\n",
    "y0 = symbols(\"y0\")\n",
    "y1 = symbols(\"y1\")\n",
    "y2 = symbols(\"y2\")\n",
    "\n",
    "z0 = symbols(\"z0\")\n",
    "z1 = symbols(\"z1\")\n",
    "z2 = symbols(\"z2\")"
   ]
  },
  {
   "cell_type": "code",
   "execution_count": 15,
   "id": "1d0c09a3",
   "metadata": {},
   "outputs": [],
   "source": [
    "a0=1/2*(x0+I*y0)\n",
    "a1=1/2*(x1+I*y1)\n",
    "a2=1/2*(x2+I*y2)\n",
    "\n",
    "ad0=1/2*(x0-I*y0)\n",
    "ad1=1/2*(x1-I*y1)\n",
    "ad2=1/2*(x2-I*y2)"
   ]
  },
  {
   "cell_type": "code",
   "execution_count": 16,
   "id": "43a64099",
   "metadata": {},
   "outputs": [
    {
     "data": {
      "text/latex": [
       "$\\displaystyle x_{0} x_{1} + y_{0} y_{1}$"
      ],
      "text/plain": [
       "x0*x1 + y0*y1"
      ]
     },
     "execution_count": 16,
     "metadata": {},
     "output_type": "execute_result"
    }
   ],
   "source": [
    "2*simplify(a0*ad1 + ad0*a1)"
   ]
  },
  {
   "cell_type": "code",
   "execution_count": 17,
   "id": "2c6eb5c0",
   "metadata": {},
   "outputs": [
    {
     "data": {
      "text/latex": [
       "$\\displaystyle x_{0} x_{1} x_{2} + x_{0} y_{1} y_{2} + x_{1} y_{0} y_{2} - 1.0 x_{2} y_{0} y_{1}$"
      ],
      "text/plain": [
       "x0*x1*x2 + x0*y1*y2 + x1*y0*y2 - 1.0*x2*y0*y1"
      ]
     },
     "execution_count": 17,
     "metadata": {},
     "output_type": "execute_result"
    }
   ],
   "source": [
    "4*simplify(a0*a1*ad2 + ad0*ad1*a2)"
   ]
  },
  {
   "cell_type": "code",
   "execution_count": 18,
   "id": "00748220",
   "metadata": {},
   "outputs": [
    {
     "data": {
      "text/latex": [
       "$\\displaystyle x_{0} x_{1} x_{2} - 1.0 x_{0} y_{1} y_{2} + x_{1} y_{0} y_{2} + x_{2} y_{0} y_{1}$"
      ],
      "text/plain": [
       "x0*x1*x2 - 1.0*x0*y1*y2 + x1*y0*y2 + x2*y0*y1"
      ]
     },
     "execution_count": 18,
     "metadata": {},
     "output_type": "execute_result"
    }
   ],
   "source": [
    "4*simplify(a2*a1*ad0 + ad2*ad1*a0)"
   ]
  },
  {
   "cell_type": "code",
   "execution_count": 20,
   "id": "47286d39",
   "metadata": {},
   "outputs": [],
   "source": [
    "import numpy as np"
   ]
  },
  {
   "cell_type": "code",
   "execution_count": 21,
   "id": "338bc5ee",
   "metadata": {},
   "outputs": [],
   "source": [
    "I = np.array([[1, 0],\n",
    "              [0, 1]])\n",
    "X = np.array([[0, 1],\n",
    "              [1, 0]])\n",
    "Y = np.array([[0, -1j],\n",
    "              [1j, 0]])\n",
    "Z = np.array([[1, 0],\n",
    "              [0, -1]])"
   ]
  },
  {
   "cell_type": "code",
   "execution_count": 22,
   "id": "765b9d3c",
   "metadata": {},
   "outputs": [],
   "source": [
    "A=1/4*(np.kron(X,np.kron(X,X))+np.kron(X,np.kron(Y,Y))+np.kron(Y,np.kron(X,Y))-np.kron(Y,np.kron(Y,X)))"
   ]
  },
  {
   "cell_type": "code",
   "execution_count": 23,
   "id": "7769a571",
   "metadata": {
    "scrolled": true
   },
   "outputs": [
    {
     "data": {
      "text/plain": [
       "(array([[0., 0., 0., 0., 0., 0., 0., 0.],\n",
       "        [0., 0., 0., 0., 0., 0., 1., 0.],\n",
       "        [0., 0., 0., 0., 0., 0., 0., 0.],\n",
       "        [0., 0., 0., 0., 0., 0., 0., 0.],\n",
       "        [0., 0., 0., 0., 0., 0., 0., 0.],\n",
       "        [0., 0., 0., 0., 0., 0., 0., 0.],\n",
       "        [0., 1., 0., 0., 0., 0., 0., 0.],\n",
       "        [0., 0., 0., 0., 0., 0., 0., 0.]]),\n",
       " 0.0)"
      ]
     },
     "execution_count": 23,
     "metadata": {},
     "output_type": "execute_result"
    }
   ],
   "source": [
    "np.real(A), np.max(np.imag(A))"
   ]
  },
  {
   "cell_type": "code",
   "execution_count": null,
   "id": "9fbbb1eb",
   "metadata": {},
   "outputs": [],
   "source": []
  },
  {
   "cell_type": "code",
   "execution_count": 24,
   "id": "f4f5de76",
   "metadata": {},
   "outputs": [],
   "source": [
    "zero=np.array([[1],[0]])\n",
    "one=np.array([[0],[1]])"
   ]
  },
  {
   "cell_type": "code",
   "execution_count": 25,
   "id": "5c3f2969",
   "metadata": {},
   "outputs": [],
   "source": [
    "zzo = np.kron(zero,np.kron(zero,one))\n",
    "ooz = np.kron(one,np.kron(one,zero))"
   ]
  },
  {
   "cell_type": "code",
   "execution_count": 26,
   "id": "7c0e1e9b",
   "metadata": {},
   "outputs": [
    {
     "data": {
      "text/plain": [
       "(0.0, 0.0)"
      ]
     },
     "execution_count": 26,
     "metadata": {},
     "output_type": "execute_result"
    }
   ],
   "source": [
    "np.max(np.real(A.dot(zzo)-ooz)), np.max(np.imag(A.dot(zzo)-ooz))"
   ]
  },
  {
   "cell_type": "code",
   "execution_count": 27,
   "id": "2e96183b",
   "metadata": {},
   "outputs": [
    {
     "data": {
      "text/plain": [
       "(0.0, 0.0)"
      ]
     },
     "execution_count": 27,
     "metadata": {},
     "output_type": "execute_result"
    }
   ],
   "source": [
    "np.max(np.real(A.dot(ooz)-zzo)), np.max(np.imag(A.dot(ooz)-zzo))"
   ]
  },
  {
   "cell_type": "code",
   "execution_count": null,
   "id": "8bbfcca8",
   "metadata": {},
   "outputs": [],
   "source": []
  }
 ],
 "metadata": {
  "kernelspec": {
   "display_name": "Python 3",
   "language": "python",
   "name": "python3"
  },
  "language_info": {
   "codemirror_mode": {
    "name": "ipython",
    "version": 3
   },
   "file_extension": ".py",
   "mimetype": "text/x-python",
   "name": "python",
   "nbconvert_exporter": "python",
   "pygments_lexer": "ipython3",
   "version": "3.9.7"
  }
 },
 "nbformat": 4,
 "nbformat_minor": 5
}
