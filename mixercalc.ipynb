{
 "cells": [
  {
   "cell_type": "code",
   "execution_count": 111,
   "id": "11322472",
   "metadata": {},
   "outputs": [],
   "source": [
    "from sympy import *"
   ]
  },
  {
   "cell_type": "code",
   "execution_count": 131,
   "id": "08f0238f",
   "metadata": {},
   "outputs": [],
   "source": [
    "x0 = symbols(\"x0\", commutative=False)\n",
    "x1 = symbols(\"x1\", commutative=False)\n",
    "x2 = symbols(\"x2\", commutative=False)\n",
    "\n",
    "y0 = symbols(\"y0\", commutative=False)\n",
    "y1 = symbols(\"y1\", commutative=False)\n",
    "y2 = symbols(\"y2\", commutative=False)\n",
    "\n",
    "z0 = symbols(\"z0\", commutative=False)\n",
    "z1 = symbols(\"z1\", commutative=False)\n",
    "z2 = symbols(\"z2\", commutative=False)\n",
    "\n",
    "I0 = symbols(\"I0\")\n",
    "I1 = symbols(\"I1\")\n",
    "I2 = symbols(\"I2\")"
   ]
  },
  {
   "cell_type": "code",
   "execution_count": 132,
   "id": "1d0c09a3",
   "metadata": {},
   "outputs": [],
   "source": [
    "a0=1/2*(x0+1j*y0)\n",
    "a1=1/2*(x1+1j*y1)\n",
    "a2=1/2*(x2+1j*y2)\n",
    "\n",
    "ad0=1/2*(x0-1j*y0)\n",
    "ad1=1/2*(x1-1j*y1)\n",
    "ad2=1/2*(x2-1j*y2)"
   ]
  },
  {
   "cell_type": "code",
   "execution_count": 133,
   "id": "76017818",
   "metadata": {},
   "outputs": [
    {
     "data": {
      "text/latex": [
       "$\\displaystyle I_{1} I_{2} x_{0}$"
      ],
      "text/plain": [
       "I1*I2*x0"
      ]
     },
     "execution_count": 133,
     "metadata": {},
     "output_type": "execute_result"
    }
   ],
   "source": [
    "A=simplify((a0+ ad0)*I1*I2)\n",
    "A"
   ]
  },
  {
   "cell_type": "code",
   "execution_count": 134,
   "id": "2f29f651",
   "metadata": {},
   "outputs": [
    {
     "data": {
      "text/latex": [
       "$\\displaystyle 0.25 i x_{0} y_{0} + 0.25 x_{0}^{2} - 0.25 i y_{0} x_{0} + 0.25 y_{0}^{2}$"
      ],
      "text/plain": [
       "0.25*I*x0*y0 + 0.25*x0**2 - 0.25*I*y0*x0 + 0.25*y0**2"
      ]
     },
     "execution_count": 134,
     "metadata": {},
     "output_type": "execute_result"
    }
   ],
   "source": [
    "expand(ad0*a0)"
   ]
  },
  {
   "cell_type": "code",
   "execution_count": 128,
   "id": "140faa5a",
   "metadata": {},
   "outputs": [
    {
     "data": {
      "text/latex": [
       "$\\displaystyle 0.5 \\left(x_{1} x_{2} + y_{1} y_{2}\\right)$"
      ],
      "text/plain": [
       "0.5*(x1*x2 + y1*y2)"
      ]
     },
     "execution_count": 128,
     "metadata": {},
     "output_type": "execute_result"
    }
   ],
   "source": [
    "B=simplify(a1*ad2 + ad1*a2)\n",
    "B"
   ]
  },
  {
   "cell_type": "code",
   "execution_count": 108,
   "id": "b2c29f4b",
   "metadata": {},
   "outputs": [
    {
     "data": {
      "text/latex": [
       "$\\displaystyle 0.5 I_{0} \\left(x_{1} x_{2} + y_{1} y_{2}\\right)$"
      ],
      "text/plain": [
       "0.5*I0*(x1*x2 + y1*y2)"
      ]
     },
     "execution_count": 108,
     "metadata": {},
     "output_type": "execute_result"
    }
   ],
   "source": [
    "B=simplify(I0*(a1*ad2 + ad1*a2))\n",
    "B"
   ]
  },
  {
   "cell_type": "code",
   "execution_count": 125,
   "id": "2c6eb5c0",
   "metadata": {},
   "outputs": [
    {
     "data": {
      "text/latex": [
       "$\\displaystyle 0.25 \\left(x_{0} x_{1} x_{2} + x_{0} y_{1} y_{2} + y_{0} x_{1} y_{2} - y_{0} y_{1} x_{2}\\right)$"
      ],
      "text/plain": [
       "0.25*(x0*x1*x2 + x0*y1*y2 + y0*x1*y2 - y0*y1*x2)"
      ]
     },
     "execution_count": 125,
     "metadata": {},
     "output_type": "execute_result"
    }
   ],
   "source": [
    "C=simplify(a0*a1*ad2 + ad0*ad1*a2)\n",
    "C"
   ]
  },
  {
   "cell_type": "code",
   "execution_count": 36,
   "id": "e4f2bacf",
   "metadata": {},
   "outputs": [
    {
     "data": {
      "text/latex": [
       "$\\displaystyle 0.5 I_{0} \\left(x_{1} x_{2} + y_{1} y_{2}\\right) + 1.0 I_{1} I_{2} x_{0} + 0.25 x_{0} x_{1} x_{2} + 0.25 x_{0} y_{1} y_{2} + 0.25 x_{1} y_{0} y_{2} - 0.25 x_{2} y_{0} y_{1}$"
      ],
      "text/plain": [
       "0.5*I0*(x1*x2 + y1*y2) + 1.0*I1*I2*x0 + 0.25*x0*x1*x2 + 0.25*x0*y1*y2 + 0.25*x1*y0*y2 - 0.25*x2*y0*y1"
      ]
     },
     "execution_count": 36,
     "metadata": {},
     "output_type": "execute_result"
    }
   ],
   "source": [
    "A+B+C"
   ]
  },
  {
   "cell_type": "code",
   "execution_count": 37,
   "id": "00748220",
   "metadata": {},
   "outputs": [],
   "source": [
    "# 4*simplify(a2*a1*ad0 + ad2*ad1*a0)"
   ]
  },
  {
   "cell_type": "code",
   "execution_count": 8,
   "id": "47286d39",
   "metadata": {},
   "outputs": [],
   "source": [
    "import numpy as np"
   ]
  },
  {
   "cell_type": "code",
   "execution_count": 58,
   "id": "338bc5ee",
   "metadata": {},
   "outputs": [],
   "source": [
    "I = np.array([[1, 0],\n",
    "              [0, 1]])\n",
    "X = np.array([[0, 1],\n",
    "              [1, 0]])\n",
    "Y = np.array([[0, -1j],\n",
    "              [1j, 0]])\n",
    "Z = np.array([[1, 0],\n",
    "              [0, -1]])"
   ]
  },
  {
   "cell_type": "code",
   "execution_count": 42,
   "id": "765b9d3c",
   "metadata": {},
   "outputs": [],
   "source": [
    "AA=1/4*(np.kron(X,np.kron(X,X))+np.kron(X,np.kron(Y,Y))+np.kron(Y,np.kron(X,Y))-np.kron(Y,np.kron(Y,X)))"
   ]
  },
  {
   "cell_type": "code",
   "execution_count": 43,
   "id": "7769a571",
   "metadata": {
    "scrolled": true
   },
   "outputs": [
    {
     "data": {
      "text/plain": [
       "(array([[0., 0., 0., 0., 0., 0., 0., 0.],\n",
       "        [0., 0., 0., 0., 0., 0., 1., 0.],\n",
       "        [0., 0., 0., 0., 0., 0., 0., 0.],\n",
       "        [0., 0., 0., 0., 0., 0., 0., 0.],\n",
       "        [0., 0., 0., 0., 0., 0., 0., 0.],\n",
       "        [0., 0., 0., 0., 0., 0., 0., 0.],\n",
       "        [0., 1., 0., 0., 0., 0., 0., 0.],\n",
       "        [0., 0., 0., 0., 0., 0., 0., 0.]]),\n",
       " 0.0)"
      ]
     },
     "execution_count": 43,
     "metadata": {},
     "output_type": "execute_result"
    }
   ],
   "source": [
    "np.real(AA), np.max(np.imag(AA))"
   ]
  },
  {
   "cell_type": "code",
   "execution_count": null,
   "id": "9fbbb1eb",
   "metadata": {},
   "outputs": [],
   "source": []
  },
  {
   "cell_type": "code",
   "execution_count": 65,
   "id": "f4f5de76",
   "metadata": {},
   "outputs": [],
   "source": [
    "zero=np.array([[1],[0]])\n",
    "one=np.array([[0],[1]])\n",
    "plus=np.array([[1],[1]])/np.sqrt(2)\n",
    "minus=np.array([[1],[-1]])/np.sqrt(2)"
   ]
  },
  {
   "cell_type": "code",
   "execution_count": 13,
   "id": "5c3f2969",
   "metadata": {},
   "outputs": [],
   "source": [
    "zzo = np.kron(zero,np.kron(zero,one))\n",
    "ooz = np.kron(one,np.kron(one,zero))\n",
    "ozo = np.kron(one,np.kron(zero,one))"
   ]
  },
  {
   "cell_type": "code",
   "execution_count": 90,
   "id": "68a65ab1",
   "metadata": {},
   "outputs": [
    {
     "name": "stdout",
     "output_type": "stream",
     "text": [
      "[[0.+0.j]\n",
      " [1.+0.j]\n",
      " [1.+0.j]\n",
      " [0.+0.j]] [[0]\n",
      " [1]\n",
      " [1]\n",
      " [0]]\n",
      "[0.00000000e+00+0.j 1.11022302e-16+0.j 5.55111512e-16+0.j\n",
      " 0.00000000e+00+0.j]\n",
      "[ 0.00000000e+00+0.j -1.11022302e-16+0.j  1.11022302e-16+0.j\n",
      "  0.00000000e+00+0.j]\n",
      "[0.+0.j 0.+0.j 0.+0.j 0.+0.j]\n",
      "[0.+0.j 0.+0.j 0.+0.j 0.+0.j]\n",
      "eigenvectors\n",
      "[-0.          0.70710678  0.70710678 -0.        ]\n",
      "[ 0.          0.70710678 -0.70710678  0.        ]\n",
      "[1. 0. 0. 0.]\n",
      "[0. 0. 0. 1.]\n"
     ]
    }
   ],
   "source": [
    "H=(np.kron(X,X)+np.kron(Y,Y))/2\n",
    "v=np.kron(one,zero)+np.kron(zero,one)\n",
    "\n",
    "print(H.dot(v),v)\n",
    "\n",
    "le,ve = np.linalg.eig(H)\n",
    "for i in range(2**2):\n",
    "    print(H@ve[:,i]-le[i]*ve[:,i])\n",
    "print(\"eigenvectors\")\n",
    "for i in range(2**2):\n",
    "    print(np.real(ve[:,i]))"
   ]
  },
  {
   "cell_type": "code",
   "execution_count": 91,
   "id": "34c80d5b",
   "metadata": {},
   "outputs": [
    {
     "data": {
      "text/plain": [
       "array([[0],\n",
       "       [0],\n",
       "       [0],\n",
       "       [1]])"
      ]
     },
     "execution_count": 91,
     "metadata": {},
     "output_type": "execute_result"
    }
   ],
   "source": [
    "np.kron(one, one)"
   ]
  },
  {
   "cell_type": "code",
   "execution_count": null,
   "id": "6fcb4b77",
   "metadata": {},
   "outputs": [],
   "source": []
  },
  {
   "cell_type": "code",
   "execution_count": null,
   "id": "a3daf6a7",
   "metadata": {},
   "outputs": [],
   "source": []
  },
  {
   "cell_type": "code",
   "execution_count": 14,
   "id": "7c0e1e9b",
   "metadata": {},
   "outputs": [
    {
     "data": {
      "text/plain": [
       "(0.0, 0.0)"
      ]
     },
     "execution_count": 14,
     "metadata": {},
     "output_type": "execute_result"
    }
   ],
   "source": [
    "np.max(np.real(A.dot(zzo)-ooz)), np.max(np.imag(A.dot(zzo)-ooz))"
   ]
  },
  {
   "cell_type": "code",
   "execution_count": 15,
   "id": "2e96183b",
   "metadata": {},
   "outputs": [
    {
     "data": {
      "text/plain": [
       "(0.0, 0.0)"
      ]
     },
     "execution_count": 15,
     "metadata": {},
     "output_type": "execute_result"
    }
   ],
   "source": [
    "np.max(np.real(A.dot(ooz)-zzo)), np.max(np.imag(A.dot(ooz)-zzo))"
   ]
  },
  {
   "cell_type": "code",
   "execution_count": 16,
   "id": "8bbfcca8",
   "metadata": {},
   "outputs": [
    {
     "data": {
      "text/plain": [
       "(array([[0],\n",
       "        [0],\n",
       "        [0],\n",
       "        [0],\n",
       "        [0],\n",
       "        [0],\n",
       "        [1],\n",
       "        [0]]),\n",
       " array([[0],\n",
       "        [1],\n",
       "        [0],\n",
       "        [0],\n",
       "        [0],\n",
       "        [0],\n",
       "        [0],\n",
       "        [0]]),\n",
       " array([[0],\n",
       "        [0],\n",
       "        [0],\n",
       "        [0],\n",
       "        [0],\n",
       "        [1],\n",
       "        [0],\n",
       "        [0]]))"
      ]
     },
     "execution_count": 16,
     "metadata": {},
     "output_type": "execute_result"
    }
   ],
   "source": [
    "ooz, zzo, ozo"
   ]
  },
  {
   "cell_type": "code",
   "execution_count": 18,
   "id": "e94c26f2",
   "metadata": {},
   "outputs": [],
   "source": [
    "# 001 -> 110 -> 101 -> 001"
   ]
  },
  {
   "cell_type": "code",
   "execution_count": 143,
   "id": "56d96756",
   "metadata": {},
   "outputs": [
    {
     "data": {
      "text/plain": [
       "(array([[0.+0.j],\n",
       "        [0.+0.j]]),\n",
       " array([[1.+0.j],\n",
       "        [0.+0.j]]))"
      ]
     },
     "execution_count": 143,
     "metadata": {},
     "output_type": "execute_result"
    }
   ],
   "source": [
    "(.5*(X+1j*Y))@zero, (.5*(X+1j*Y))@one"
   ]
  },
  {
   "cell_type": "code",
   "execution_count": 144,
   "id": "2a92da7b",
   "metadata": {},
   "outputs": [
    {
     "data": {
      "text/plain": [
       "(array([[0.+0.j],\n",
       "        [1.+0.j]]),\n",
       " array([[0.+0.j],\n",
       "        [0.+0.j]]))"
      ]
     },
     "execution_count": 144,
     "metadata": {},
     "output_type": "execute_result"
    }
   ],
   "source": [
    "(.5*(X-1j*Y))@zero, (.5*(X-1j*Y))@one"
   ]
  },
  {
   "cell_type": "code",
   "execution_count": 146,
   "id": "f4acea62",
   "metadata": {},
   "outputs": [
    {
     "data": {
      "text/plain": [
       "(array([[0.+0.j],\n",
       "        [0.+0.j]]),\n",
       " array([[0.+0.j],\n",
       "        [1.+0.j]]))"
      ]
     },
     "execution_count": 146,
     "metadata": {},
     "output_type": "execute_result"
    }
   ],
   "source": [
    "(.5*(X-1j*Y))@(.5*(X+1j*Y))@zero, (.5*(X-1j*Y))@(.5*(X+1j*Y))@one"
   ]
  },
  {
   "cell_type": "code",
   "execution_count": 147,
   "id": "62ebf581",
   "metadata": {},
   "outputs": [
    {
     "data": {
      "text/plain": [
       "(array([[1.+0.j],\n",
       "        [0.+0.j]]),\n",
       " array([[0.+0.j],\n",
       "        [0.+0.j]]))"
      ]
     },
     "execution_count": 147,
     "metadata": {},
     "output_type": "execute_result"
    }
   ],
   "source": [
    "(.5*(X+1j*Y))@(.5*(X-1j*Y))@zero, (.5*(X+1j*Y))@(.5*(X-1j*Y))@one"
   ]
  },
  {
   "cell_type": "code",
   "execution_count": 99,
   "id": "a3fdd2d5",
   "metadata": {},
   "outputs": [],
   "source": [
    "A=1/4*(np.kron(X,np.kron(X,X))+np.kron(X,np.kron(Y,Y))+np.kron(Y,np.kron(X,Y))-np.kron(Y,np.kron(Y,X)))\n",
    "B=1/2*(np.kron(I,np.kron(X,X))+np.kron(I,np.kron(Y,Y)))\n",
    "C=np.kron(I,np.kron(I,X))"
   ]
  },
  {
   "cell_type": "code",
   "execution_count": 105,
   "id": "91858a9f",
   "metadata": {},
   "outputs": [
    {
     "data": {
      "text/plain": [
       "(array([[0.+0.j],\n",
       "        [0.+0.j],\n",
       "        [0.+0.j],\n",
       "        [0.+0.j],\n",
       "        [0.+0.j],\n",
       "        [0.+0.j],\n",
       "        [0.+0.j],\n",
       "        [0.+0.j]]),\n",
       " array([[0.+0.j],\n",
       "        [0.+0.j],\n",
       "        [0.+0.j],\n",
       "        [0.+0.j],\n",
       "        [0.+0.j],\n",
       "        [0.+0.j],\n",
       "        [1.+0.j],\n",
       "        [0.+0.j]]),\n",
       " array([[0],\n",
       "        [0],\n",
       "        [0],\n",
       "        [0],\n",
       "        [1],\n",
       "        [0],\n",
       "        [0],\n",
       "        [0]]))"
      ]
     },
     "execution_count": 105,
     "metadata": {},
     "output_type": "execute_result"
    }
   ],
   "source": [
    "A@np.kron(one,np.kron(zero,one)),\\\n",
    "B@np.kron(one,np.kron(zero,one)),\\\n",
    "C@np.kron(one,np.kron(zero,one))"
   ]
  },
  {
   "cell_type": "code",
   "execution_count": 104,
   "id": "26e38761",
   "metadata": {},
   "outputs": [
    {
     "data": {
      "text/plain": [
       "(array([[0.+0.j],\n",
       "        [0.+0.j],\n",
       "        [0.+0.j],\n",
       "        [0.+0.j],\n",
       "        [0.+0.j],\n",
       "        [0.+0.j],\n",
       "        [0.+0.j],\n",
       "        [0.+0.j]]),\n",
       " array([[0.+0.j],\n",
       "        [0.+0.j],\n",
       "        [0.+0.j],\n",
       "        [0.+0.j],\n",
       "        [0.+0.j],\n",
       "        [1.+0.j],\n",
       "        [0.+0.j],\n",
       "        [0.+0.j]]),\n",
       " array([[0],\n",
       "        [0],\n",
       "        [0],\n",
       "        [0],\n",
       "        [0],\n",
       "        [0],\n",
       "        [0],\n",
       "        [1]]))"
      ]
     },
     "execution_count": 104,
     "metadata": {},
     "output_type": "execute_result"
    }
   ],
   "source": [
    "A@np.kron(one,np.kron(one,zero))-np.kron(zero,np.kron(zero,one)),\\\n",
    "B@np.kron(one,np.kron(one,zero)),\\\n",
    "C@np.kron(one,np.kron(one,zero))"
   ]
  },
  {
   "cell_type": "code",
   "execution_count": null,
   "id": "dc2a4c5b",
   "metadata": {},
   "outputs": [],
   "source": []
  },
  {
   "cell_type": "code",
   "execution_count": null,
   "id": "a1e6ecf1",
   "metadata": {},
   "outputs": [],
   "source": []
  },
  {
   "cell_type": "code",
   "execution_count": null,
   "id": "42d1fbc3",
   "metadata": {},
   "outputs": [],
   "source": []
  },
  {
   "cell_type": "code",
   "execution_count": null,
   "id": "9fbd4b57",
   "metadata": {},
   "outputs": [],
   "source": []
  },
  {
   "cell_type": "code",
   "execution_count": null,
   "id": "68da3060",
   "metadata": {},
   "outputs": [],
   "source": []
  },
  {
   "cell_type": "code",
   "execution_count": null,
   "id": "26f2caf0",
   "metadata": {},
   "outputs": [],
   "source": []
  },
  {
   "cell_type": "code",
   "execution_count": null,
   "id": "0a4d3b72",
   "metadata": {},
   "outputs": [],
   "source": []
  }
 ],
 "metadata": {
  "kernelspec": {
   "display_name": "Python 3",
   "language": "python",
   "name": "python3"
  },
  "language_info": {
   "codemirror_mode": {
    "name": "ipython",
    "version": 3
   },
   "file_extension": ".py",
   "mimetype": "text/x-python",
   "name": "python",
   "nbconvert_exporter": "python",
   "pygments_lexer": "ipython3",
   "version": "3.9.7"
  }
 },
 "nbformat": 4,
 "nbformat_minor": 5
}
